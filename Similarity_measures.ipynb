{
 "cells": [
  {
   "cell_type": "code",
   "execution_count": 8,
   "id": "c6fb28c9-880f-4a9f-b32d-bf2d3dfd880d",
   "metadata": {},
   "outputs": [],
   "source": [
    "import numpy as np\n",
    "from scipy.spatial.distance import cosine,euclidean\n",
    "from scipy.stats import pearsonr"
   ]
  },
  {
   "cell_type": "code",
   "execution_count": 10,
   "id": "5a070e51-bee6-4f65-b377-acb2bf73778f",
   "metadata": {},
   "outputs": [],
   "source": [
    "# Sample user rating data on a scale of 5\n",
    "user1=np.array([4,5,2,4,5])\n",
    "user2=np.array([5,3,2,4,5])\n"
   ]
  },
  {
   "cell_type": "code",
   "execution_count": 50,
   "id": "6a1e0d97-ae4c-4879-821d-158fee918452",
   "metadata": {},
   "outputs": [
    {
     "name": "stdout",
     "output_type": "stream",
     "text": [
      "Cosine Similarity: 0.9706\n"
     ]
    }
   ],
   "source": [
    "cosine_similarity = 1- cosine(user1, user2)\n",
    "print(f\"Cosine Similarity: {cosine_similarity:.4f}\")"
   ]
  },
  {
   "cell_type": "code",
   "execution_count": 52,
   "id": "0ca96483-d062-4a81-b9f8-6e208ed78504",
   "metadata": {},
   "outputs": [
    {
     "name": "stdout",
     "output_type": "stream",
     "text": [
      "Pearson Correlation Similarity:0.6262\n"
     ]
    }
   ],
   "source": [
    "pearson_corr, _ = pearsonr(user1, user2)\n",
    "print(f\"Pearson Correlation Similarity:{pearson_corr:.4f}\")"
   ]
  },
  {
   "cell_type": "code",
   "execution_count": 54,
   "id": "2df76411-005a-4a35-9578-f2c973e1930d",
   "metadata": {},
   "outputs": [
    {
     "name": "stdout",
     "output_type": "stream",
     "text": [
      " Euclidean Distance similarity: 0.3090\n"
     ]
    }
   ],
   "source": [
    "euclidean_distance = euclidean(user1,user2)\n",
    "euclidean_similarity = 1/(1+euclidean_distance)\n",
    "print(f\" Euclidean Distance similarity: {euclidean_similarity:.4f}\")"
   ]
  },
  {
   "cell_type": "code",
   "execution_count": 56,
   "id": "dec5b9cd-c937-4046-8de4-68dde516b32e",
   "metadata": {},
   "outputs": [],
   "source": [
    "raju=np.array([5,3,4,2,5])\n",
    "john=np.array([3,1,2,3,3])\n",
    "Ramya=np.array([4,3,4,5,1])\n",
    "Kishore=np.array([2,2,1,2,4])\n",
    "\n"
   ]
  },
  {
   "cell_type": "code",
   "execution_count": 58,
   "id": "39f21a3a-3f37-472e-963c-dfb43cd87533",
   "metadata": {},
   "outputs": [
    {
     "name": "stdout",
     "output_type": "stream",
     "text": [
      "Cosine Similarity: 0.8247\n"
     ]
    }
   ],
   "source": [
    "cosine_similarity = 1- cosine(raju, Ramya,)\n",
    "print(f\"Cosine Similarity: {cosine_similarity:.4f}\")"
   ]
  },
  {
   "cell_type": "code",
   "execution_count": 60,
   "id": "4adc5489-013c-4922-84ae-4a46f92877ac",
   "metadata": {},
   "outputs": [
    {
     "name": "stdout",
     "output_type": "stream",
     "text": [
      "Cosine Similarity: 0.9348\n"
     ]
    }
   ],
   "source": [
    "cosine_similarity = 1- cosine(raju, john)\n",
    "print(f\"Cosine Similarity: {cosine_similarity:.4f}\")"
   ]
  },
  {
   "cell_type": "code",
   "execution_count": 62,
   "id": "ff8e7207-8607-4482-9f01-a03cd47c0c3d",
   "metadata": {},
   "outputs": [
    {
     "name": "stdout",
     "output_type": "stream",
     "text": [
      "Cosine Similarity: 0.8247\n"
     ]
    }
   ],
   "source": [
    "cosine_similarity = 1- cosine(Ramya,raju )\n",
    "print(f\"Cosine Similarity: {cosine_similarity:.4f}\")"
   ]
  },
  {
   "cell_type": "code",
   "execution_count": 64,
   "id": "3d261132-6b5a-4403-b1bd-16d1f95a5abd",
   "metadata": {},
   "outputs": [
    {
     "name": "stdout",
     "output_type": "stream",
     "text": [
      "Cosine Similarity: 0.9191\n"
     ]
    }
   ],
   "source": [
    "cosine_similarity = 1- cosine(john,Kishore )\n",
    "print(f\"Cosine Similarity: {cosine_similarity:.4f}\")"
   ]
  },
  {
   "cell_type": "code",
   "execution_count": null,
   "id": "0cf709e1-7cac-4205-b4d6-183fe6109680",
   "metadata": {},
   "outputs": [],
   "source": []
  },
  {
   "cell_type": "code",
   "execution_count": null,
   "id": "dd8daa6e-c010-4a16-ace3-3deee398cdf7",
   "metadata": {},
   "outputs": [],
   "source": []
  },
  {
   "cell_type": "code",
   "execution_count": null,
   "id": "c38ad8f4-ca2b-445b-b41e-7bbbc25bad69",
   "metadata": {},
   "outputs": [],
   "source": []
  }
 ],
 "metadata": {
  "kernelspec": {
   "display_name": "Python [conda env:base] *",
   "language": "python",
   "name": "conda-base-py"
  },
  "language_info": {
   "codemirror_mode": {
    "name": "ipython",
    "version": 3
   },
   "file_extension": ".py",
   "mimetype": "text/x-python",
   "name": "python",
   "nbconvert_exporter": "python",
   "pygments_lexer": "ipython3",
   "version": "3.12.7"
  }
 },
 "nbformat": 4,
 "nbformat_minor": 5
}
